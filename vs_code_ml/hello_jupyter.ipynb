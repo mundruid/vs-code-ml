{
 "cells": [
  {
   "attachments": {},
   "cell_type": "markdown",
   "metadata": {},
   "source": [
    "# Hello Jupyter\n",
    "\n",
    "## First notebook\n",
    "\n",
    "- write markdown\n",
    "- add code"
   ]
  },
  {
   "cell_type": "code",
   "execution_count": null,
   "metadata": {},
   "outputs": [],
   "source": [
    "import pandas as pd\n",
    "\n",
    "df = pd.DataFrame({\"IP\": [\"8.8.8.8\", \"10.10.10.11\"], \"port\": [53, 3456]})\n",
    "df"
   ]
  },
  {
   "cell_type": "code",
   "execution_count": null,
   "metadata": {},
   "outputs": [],
   "source": [
    "import json\n",
    "\n",
    "\n",
    "def read_tcpdump(file_name: str) -> dict:\n",
    "    with open(file_name, encoding=\"utf-8\") as tcpdump:\n",
    "        tcpdump_data = json.load(tcpdump)\n",
    "\n",
    "    return tcpdump_data"
   ]
  }
 ],
 "metadata": {
  "kernelspec": {
   "display_name": ".venv",
   "language": "python",
   "name": "python3"
  },
  "language_info": {
   "codemirror_mode": {
    "name": "ipython",
    "version": 3
   },
   "file_extension": ".py",
   "mimetype": "text/x-python",
   "name": "python",
   "nbconvert_exporter": "python",
   "pygments_lexer": "ipython3",
   "version": "3.10.6"
  },
  "vscode": {
   "interpreter": {
    "hash": "f1985d192b49b1d35d215d20ad98d56f27f0050fecdbfa75a8b1235746e3012d"
   }
  }
 },
 "nbformat": 4,
 "nbformat_minor": 2
}
