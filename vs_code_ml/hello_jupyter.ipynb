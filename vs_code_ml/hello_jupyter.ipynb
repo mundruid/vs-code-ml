{
 "cells": [
  {
   "attachments": {},
   "cell_type": "markdown",
   "metadata": {},
   "source": [
    "# Hello Jupyter\n",
    "\n",
    "## First notebook\n",
    "\n",
    "- write markdown\n",
    "- add code"
   ]
  },
  {
   "cell_type": "code",
   "execution_count": null,
   "metadata": {},
   "outputs": [],
   "source": [
    "import pandas as pd\n",
    "\n",
    "df = pd.DataFrame({\"IP\": [\"8.8.8.8\", \"10.10.10.11\"], \"port\": [53, 3456]})\n",
    "df"
   ]
  }
 ],
 "metadata": {
  "kernelspec": {
   "display_name": ".venv",
   "language": "python",
   "name": "python3"
  },
  "language_info": {
   "codemirror_mode": {
    "name": "ipython",
    "version": 3
   },
   "file_extension": ".py",
   "mimetype": "text/x-python",
   "name": "python",
   "nbconvert_exporter": "python",
   "pygments_lexer": "ipython3",
   "version": "3.10.6"
  },
  "orig_nbformat": 4,
  "vscode": {
   "interpreter": {
    "hash": "e602f18eb998708ef19058085f0f96ef2a6d2d8a5f4d2f4ad155c2268318ce3b"
   }
  }
 },
 "nbformat": 4,
 "nbformat_minor": 2
}
