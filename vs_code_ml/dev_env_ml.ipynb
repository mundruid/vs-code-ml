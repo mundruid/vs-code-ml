{
 "cells": [
  {
   "attachments": {},
   "cell_type": "markdown",
   "metadata": {
    "slideshow": {
     "slide_type": "slide"
    }
   },
   "source": [
    "# VS Code for your Data Science Project\n",
    "\n",
    "## Xenia Mountrouidou\n",
    "\n",
    "## Senior Security Researcher\n",
    "\n",
    "## Cyber adAPT"
   ]
  },
  {
   "attachments": {},
   "cell_type": "markdown",
   "metadata": {
    "slideshow": {
     "slide_type": "slide"
    }
   },
   "source": [
    "# Agenda\n",
    "\n",
    "- Why VS Code?\n",
    "- Install VS Code and necessary plugins\n",
    "- A primer on Virtual Environments\n",
    "- Jupyter Notebooks and Virtual Environments - Demo\n",
    "- My favorite plugins - Demo\n",
    "- Bonus: favorite Data Sciency libraries - Demo"
   ]
  },
  {
   "attachments": {},
   "cell_type": "markdown",
   "metadata": {
    "slideshow": {
     "slide_type": "slide"
    }
   },
   "source": [
    "# Why VS Code?\n",
    "\n",
    "- Flexibility\n",
    "- Control\n",
    "- Intellectual Property"
   ]
  },
  {
   "attachments": {},
   "cell_type": "markdown",
   "metadata": {
    "slideshow": {
     "slide_type": "slide"
    }
   },
   "source": [
    "# Basic Installation\n",
    "\n",
    "- [Download VS Code](https://code.visualstudio.com/download) for your host OS\n",
    "- Install plugins:\n",
    "  - [Python](https://marketplace.visualstudio.com/items?itemName=ms-python.python) \n",
    "  - [Jupyter](https://marketplace.visualstudio.com/items?itemName=ms-toolsai.jupyter)\n"
   ]
  },
  {
   "attachments": {},
   "cell_type": "markdown",
   "metadata": {
    "slideshow": {
     "slide_type": "slide"
    }
   },
   "source": [
    "# Virtual Environments\n",
    "\n",
    "## What?\n",
    "Sandbox for your packages and Python version.\n",
    "\n",
    "## Why?\n",
    "- Dependencies need to be managed cleanly\n",
    "- Portability"
   ]
  },
  {
   "attachments": {},
   "cell_type": "markdown",
   "metadata": {
    "slideshow": {
     "slide_type": "slide"
    }
   },
   "source": [
    "# Virtual environments\n",
    "\n",
    "## How?\n",
    "\n",
    "Let's create a new project and env:\n",
    "```bash\n",
    "$ cd hello_vscode\n",
    "$ python -m venv .venv\n",
    "$ source .venv/bin/activate\n",
    "(.venv)$ pip install pandas\n",
    "(.venv)$ pip freeze > requirements.txt\n",
    "(.venv)$ pip freeze -r requirements.txt\n",
    "```\n",
    "\n",
    "## Pro-tip\n",
    "Add the following to your `.gitignore`:\n",
    "- `.venv`\n",
    "- `.vscode`"
   ]
  },
  {
   "attachments": {},
   "cell_type": "markdown",
   "metadata": {
    "slideshow": {
     "slide_type": "slide"
    }
   },
   "source": [
    "# venv and Jupyter\n",
    "\n",
    "- Your Jupyter notebooks need to recognize the venv\n",
    "- However, if they do not you can manually install it:\n",
    "    ```bash\n",
    "    # Activate the virtualenv\n",
    "    $ source .venv/bin/activate\n",
    "    # Install jupyter in the virtualenv\n",
    "    (.venv)$ pip install jupyter\n",
    "    # Add the virtualenv as a jupyter kernel\n",
    "    (.venv)$ ipython kernel install --name \"local-venv\" --user\n",
    "    ```\n",
    "- You will need to put the proper `local-venv` name, which in our examples is `.venv`."
   ]
  },
  {
   "attachments": {},
   "cell_type": "markdown",
   "metadata": {
    "slideshow": {
     "slide_type": "slide"
    }
   },
   "source": [
    "# Favorite Plugins\n",
    "\n",
    "- [pylance](https://marketplace.visualstudio.com/items?itemName=ms-python.vscode-pylance)\n",
    "- [intellicode](https://marketplace.visualstudio.com/items?itemName=VisualStudioExptTeam.vscodeintellicode)\n",
    "- [autodocstring](https://marketplace.visualstudio.com/items?itemName=njpwerner.autodocstring)\n",
    "- [SSH](https://marketplace.visualstudio.com/items?itemName=ms-vscode-remote.remote-ssh)\n",
    "- [Live Share](https://marketplace.visualstudio.com/items?itemName=MS-vsliveshare.vsliveshare)\n",
    "- [CodeGPT](https://marketplace.visualstudio.com/items?itemName=DanielSanMedium.dscodegpt)\n",
    "- ... so many more!"
   ]
  },
  {
   "attachments": {},
   "cell_type": "markdown",
   "metadata": {
    "slideshow": {
     "slide_type": "slide"
    }
   },
   "source": [
    "# Bonus: Favorite Libraries\n",
    "\n",
    "- EDA\n",
    "  - skim \n",
    "  - dfSummary\n",
    "  - sweetviz\n",
    "- Networking\n",
    "  - tldextract\n",
    "  - scapy\n",
    "- Elastic\n",
    "  - [eland](https://www.elastic.co/guide/en/elasticsearch/client/eland/current/overview.html)"
   ]
  },
  {
   "attachments": {},
   "cell_type": "markdown",
   "metadata": {
    "slideshow": {
     "slide_type": "slide"
    }
   },
   "source": [
    "# Recap\n",
    "\n",
    "- VS Code for productivity and control\n",
    "- venv for peace of mind!\n",
    "- What are your favorite plugins & libraries?"
   ]
  },
  {
   "attachments": {},
   "cell_type": "markdown",
   "metadata": {
    "slideshow": {
     "slide_type": "slide"
    }
   },
   "source": [
    "# Thank you!\n",
    "\n",
    "## Questions?"
   ]
  }
 ],
 "metadata": {
  "kernelspec": {
   "display_name": "Python 3",
   "language": "python",
   "name": "python3"
  },
  "language_info": {
   "name": "python",
   "version": "3.10.6"
  },
  "vscode": {
   "interpreter": {
    "hash": "eac5c6e77b39b1041a58ca0384013d6b4ad12f0dc0e13c3a6b9aa52083b9ed8e"
   }
  }
 },
 "nbformat": 4,
 "nbformat_minor": 2
}
