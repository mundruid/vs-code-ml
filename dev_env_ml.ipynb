{
 "cells": [
  {
   "attachments": {},
   "cell_type": "markdown",
   "metadata": {
    "slideshow": {
     "slide_type": "subslide"
    }
   },
   "source": [
    "# VS Code for your Data Science Project\n",
    "\n",
    "## by Xenia Mountrouidou\n",
    "\n",
    "## Senior Security Researcher, Cyber adAPT"
   ]
  },
  {
   "attachments": {},
   "cell_type": "markdown",
   "metadata": {
    "slideshow": {
     "slide_type": "slide"
    }
   },
   "source": [
    "# Agenda\n",
    "\n",
    "- Why VS Code?\n",
    "- Install VS Code and necessary plugins\n",
    "- A primer on Virtual Environments\n",
    "- Jupyter Notebooks and Virtual Environments\n",
    "- My favorite plugins\n",
    "- Bonus: favorite Data Sciency libraries "
   ]
  }
 ],
 "metadata": {
  "language_info": {
   "name": "python"
  },
  "orig_nbformat": 4
 },
 "nbformat": 4,
 "nbformat_minor": 2
}
